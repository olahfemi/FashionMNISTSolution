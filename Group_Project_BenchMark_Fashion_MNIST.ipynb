{
  "nbformat": 4,
  "nbformat_minor": 0,
  "metadata": {
    "colab": {
      "name": "Group Project BenchMark Fashion MNIST.ipynb",
      "version": "0.3.2",
      "provenance": [],
      "collapsed_sections": [
        "2gWfbEKXA_3Y",
        "wqg1bwq5MmZQ",
        "oSFuvfiKUXaU",
        "tdsl7Fc9VIMj",
        "16lHWmTLZ4yz",
        "TYN3t19Eaxj0"
      ],
      "include_colab_link": true
    },
    "kernelspec": {
      "name": "python3",
      "display_name": "Python 3"
    },
    "accelerator": "GPU"
  },
  "cells": [
    {
      "cell_type": "markdown",
      "metadata": {
        "id": "view-in-github",
        "colab_type": "text"
      },
      "source": [
        "<a href=\"https://colab.research.google.com/github/olahfemi/FashionMNISTSolution/blob/master/Group_Project_BenchMark_Fashion_MNIST.ipynb\" target=\"_parent\"><img src=\"https://colab.research.google.com/assets/colab-badge.svg\" alt=\"Open In Colab\"/></a>"
      ]
    },
    {
      "metadata": {
        "id": "k5EhE2tn2PXs",
        "colab_type": "text"
      },
      "cell_type": "markdown",
      "source": [
        "# Group Project\n",
        "\n",
        "This notebook along with the [TensorFlow and deep learning, without a PhD](https://codelabs.developers.google.com/codelabs/cloud-tensorflow-mnist/#0) codelabs should serve as a starter guide for your group projects. For the project, you are to build a model that achieves a minimum of 96% accuracy for a classification task on the MNIST dataset. This can be achieved by several methods, but you are required to follow some certain steps as outlined below:\n",
        "\n",
        "1. Load the mnist dataset from tensorflow. This consists of the train, validation, and test sets.\n",
        "    The train set has 55000 examples,\n",
        "    The validation set has 5000 examples, and\n",
        "    the test set has 10000 examples.\n",
        "    \n",
        "2. Visualize the examples in each set.\n",
        " \n",
        "3. Build a softmax regression model (a 1 layer neural network)and train it on the dataset.\n",
        "\n",
        "4. Add a hidden layer of 200 neurons, use sigmoid activation for hidden units, train and obtain train, validation and test accuracies and loss\n",
        "\n",
        "5. Build a five layers neural network with sigmoid activation\n",
        "\n",
        "6. Replace the sigmoid activations with relu\n",
        "\n",
        "7. Introduce learning rate decay\n",
        "\n",
        "8. Use dropout\n",
        "\n",
        "9. Convolutional Neural Networks\n"
      ]
    },
    {
      "metadata": {
        "id": "KuW0P6x22MJG",
        "colab_type": "code",
        "colab": {
          "base_uri": "https://localhost:8080/",
          "height": 530
        },
        "cellView": "form",
        "outputId": "768b89ad-2757-4202-d80b-81270e54753b"
      },
      "cell_type": "code",
      "source": [
        "#@title All imports and Initializations(RUN THIS CELL!)\n",
        "'''\n",
        "Obtain MNIST dataset using tensorflow\n",
        "'''\n",
        "import tensorflow as tf\n",
        "import math\n",
        "import numpy as np\n",
        "from tensorflow.examples.tutorials.mnist import input_data\n",
        "import matplotlib.pyplot as plt\n",
        "\n",
        "mnist = input_data.read_data_sets('data/fashion', source_url='http://fashion-mnist.s3-website.eu-central-1.amazonaws.com/', one_hot=True)\n",
        "\n",
        "fashion_class = {0:'shirt/top',\n",
        "                1: \t'Trouser',\n",
        "                2: \t'Pullover',\n",
        "                3: \t'Dress',\n",
        "                4: \t'Coat',\n",
        "                5: \t'Sandal',\n",
        "                6: \t'Shirt',\n",
        "                7: \t'Sneaker',\n",
        "                8: \t'Bag',\n",
        "                9: \t'Ankle boot'\n",
        "                }\n",
        "\n",
        "def view_image(x,y):\n",
        "  '''\n",
        "  View 10 random images from a dataset\n",
        "  \n",
        "  input:\n",
        "    x => ndarray[of shape (m x n)] (examples)\n",
        "    y => ndarray[of shape (m x c)] (onehot encoded)\n",
        "          m = no of examples\n",
        "          c = no of classes\n",
        "  output:\n",
        "    None.\n",
        "   \n",
        "  '''\n",
        "  f, axarr = plt.subplots(2,5)\n",
        "  \n",
        "  for ax in f.axes:\n",
        "    i = np.random.randint(x.shape[0]) # pick a random example (ith example)\n",
        "    ax.get_xaxis().set_ticks([]) # don't label the xaxis\n",
        "    ax.get_yaxis().set_ticks([]) # don't label the yais\n",
        "    ax.text(0,0, fashion_class[np.argmax(y[i])]) # display a text containing the ith example's class\n",
        "    ax.imshow(x[i].reshape(28,28)) # display the ith example\n",
        "\n",
        "    \n",
        "    \n",
        "# This function does the training\n",
        "\n",
        "def training(X_train, y_train, X_val, y_val, sess, epochs = 1, mini_batch = 100, step=None, pkeep=None):\n",
        "  \n",
        "    '''\n",
        "    **arguments**\n",
        "    X_train:\n",
        "      The input feature matrix\n",
        "    y_train:\n",
        "      The output true label\n",
        "    X_val:\n",
        "      The validation set feature matrix\n",
        "    y_val:\n",
        "      The validation set true label\n",
        "    sess:\n",
        "      A tensorflow session to run the computational graph\n",
        "    epochs:\n",
        "      No of times to run through the entire examples \n",
        "    mini_batch:\n",
        "      No of examples to use in each train step\n",
        "      \n",
        "      \n",
        "    **returns**\n",
        "    history: tuple\n",
        "      a tuple containing the train and validation accuracies and losses\n",
        "      \n",
        "    '''\n",
        "    \n",
        "    accuracies = []\n",
        "    loss = []\n",
        "    accuracies_validation = []\n",
        "    loss_validation = []\n",
        "    \n",
        "    steps_per_epoch = int(X_train.shape[0]/mini_batch)\n",
        "    training_steps = epochs * steps_per_epoch\n",
        "  \n",
        "    for i in range(1,training_steps+1):\n",
        "      # pick a mini batch from the training\n",
        "      s = i%steps_per_epoch\n",
        "      batch_X, batch_Y = X_train[(s-1)*mini_batch:(s)*mini_batch], y_train[(s-1)*mini_batch:(s)*mini_batch]\n",
        "\n",
        "      # compute train/validation loss and accuracy\n",
        "      if i%steps_per_epoch == 0:\n",
        "          # train\n",
        "          if(step != None and pkeep == None):\n",
        "            a, c = sess.run([accuracy, cross_entropy], feed_dict={X: X_train, y: y_train})\n",
        "          if(step == None and pkeep != None):\n",
        "            a, c = sess.run([accuracy, cross_entropy], feed_dict={X: X_train, y: y_train, pkeep_val: pkeep})\n",
        "          if(step != None and pkeep != None):\n",
        "            a, c = sess.run([accuracy, cross_entropy], feed_dict={X: X_train, y: y_train, pkeep_val: pkeep})\n",
        "          if(step == None and pkeep == None):\n",
        "            a, c = sess.run([accuracy, cross_entropy], feed_dict={X: X_train, y: y_train})\n",
        "          loss.append(c)\n",
        "          accuracies.append(a)\n",
        "          print(\"EPOCH \" + str(i/steps_per_epoch) + \"\\n\" + \" train accuracy:\" + str(a) + \"train loss: \" + str(c))\n",
        "          \n",
        "          # validation\n",
        "          if(step != None and pkeep == None):\n",
        "            a, c = sess.run([accuracy, cross_entropy], feed_dict={X: X_val, y: y_val})\n",
        "          if(step == None and pkeep != None):\n",
        "            a, c = sess.run([accuracy, cross_entropy], feed_dict={X: X_val, y: y_val, pkeep_val: 1})\n",
        "          if(step != None and pkeep != None):\n",
        "            a, c = sess.run([accuracy, cross_entropy], feed_dict={X: X_val, y: y_val, pkeep_val: 1})\n",
        "          if(step == None and pkeep == None):\n",
        "            a, c = sess.run([accuracy, cross_entropy], feed_dict={X: X_val, y: y_val})\n",
        "         \n",
        "          loss_validation.append(c)\n",
        "          accuracies_validation.append(a)\n",
        "          print(\" ********* validation accuracy:\" + str(a) + \" validation loss: \" + str(c))\n",
        "\n",
        "      # the backpropagation training step\n",
        "     \n",
        "      if(step != None and pkeep == None):\n",
        "        sess.run(train_step, feed_dict={X: batch_X, y: batch_Y, step_val: i})\n",
        "      if(step == None and pkeep != None):\n",
        "        sess.run(train_step, feed_dict={X: batch_X, y: batch_Y, pkeep_val: pkeep})\n",
        "      if(step != None and pkeep != None):\n",
        "        sess.run([train_step], feed_dict={X: X_val, y: y_val, step_val: i, pkeep_val: pkeep})\n",
        "      if(step == None and pkeep == None):\n",
        "        sess.run(train_step, feed_dict={X: X_val, y: y_val})\n",
        "         \n",
        "      \n",
        "      history = (accuracies, loss, accuracies_validation, loss_validation)\n",
        "      \n",
        "    return history\n",
        "  \n",
        "\n",
        "\n",
        "def plot_history(history):\n",
        "  accuracies, loss, accuracies_validation, loss_validation = history\n",
        "  f, ax = plt.subplots(2,2)\n",
        "  ax[0,0].plot(accuracies)\n",
        "  ax[0,0].set(xlabel='epochs', ylabel='train_accuracy')\n",
        "\n",
        "  ax[0,1].plot(loss )\n",
        "  ax[0,1].set(xlabel='epochs', ylabel='train_loss')\n",
        "\n",
        "  ax[1,0].plot(accuracies_validation)\n",
        "  ax[1,0].set(xlabel='epochs', ylabel='val_accuracy')\n",
        "\n",
        "\n",
        "  ax[1,1].plot(loss_validation)\n",
        "  ax[1,1].set(xlabel='epochs', ylabel='val_loss')\n",
        "  "
      ],
      "execution_count": 1,
      "outputs": [
        {
          "output_type": "stream",
          "text": [
            "WARNING:tensorflow:From <ipython-input-1-82415803995a>:10: read_data_sets (from tensorflow.contrib.learn.python.learn.datasets.mnist) is deprecated and will be removed in a future version.\n",
            "Instructions for updating:\n",
            "Please use alternatives such as official/mnist/dataset.py from tensorflow/models.\n",
            "WARNING:tensorflow:From /usr/local/lib/python3.6/dist-packages/tensorflow/contrib/learn/python/learn/datasets/mnist.py:260: maybe_download (from tensorflow.contrib.learn.python.learn.datasets.base) is deprecated and will be removed in a future version.\n",
            "Instructions for updating:\n",
            "Please write your own downloading logic.\n",
            "WARNING:tensorflow:From /usr/local/lib/python3.6/dist-packages/tensorflow/contrib/learn/python/learn/datasets/base.py:252: _internal_retry.<locals>.wrap.<locals>.wrapped_fn (from tensorflow.contrib.learn.python.learn.datasets.base) is deprecated and will be removed in a future version.\n",
            "Instructions for updating:\n",
            "Please use urllib or similar directly.\n",
            "Successfully downloaded train-images-idx3-ubyte.gz 26421880 bytes.\n",
            "WARNING:tensorflow:From /usr/local/lib/python3.6/dist-packages/tensorflow/contrib/learn/python/learn/datasets/mnist.py:262: extract_images (from tensorflow.contrib.learn.python.learn.datasets.mnist) is deprecated and will be removed in a future version.\n",
            "Instructions for updating:\n",
            "Please use tf.data to implement this functionality.\n",
            "Extracting data/fashion/train-images-idx3-ubyte.gz\n",
            "Successfully downloaded train-labels-idx1-ubyte.gz 29515 bytes.\n",
            "WARNING:tensorflow:From /usr/local/lib/python3.6/dist-packages/tensorflow/contrib/learn/python/learn/datasets/mnist.py:267: extract_labels (from tensorflow.contrib.learn.python.learn.datasets.mnist) is deprecated and will be removed in a future version.\n",
            "Instructions for updating:\n",
            "Please use tf.data to implement this functionality.\n",
            "Extracting data/fashion/train-labels-idx1-ubyte.gz\n",
            "WARNING:tensorflow:From /usr/local/lib/python3.6/dist-packages/tensorflow/contrib/learn/python/learn/datasets/mnist.py:110: dense_to_one_hot (from tensorflow.contrib.learn.python.learn.datasets.mnist) is deprecated and will be removed in a future version.\n",
            "Instructions for updating:\n",
            "Please use tf.one_hot on tensors.\n",
            "Successfully downloaded t10k-images-idx3-ubyte.gz 4422102 bytes.\n",
            "Extracting data/fashion/t10k-images-idx3-ubyte.gz\n",
            "Successfully downloaded t10k-labels-idx1-ubyte.gz 5148 bytes.\n",
            "Extracting data/fashion/t10k-labels-idx1-ubyte.gz\n",
            "WARNING:tensorflow:From /usr/local/lib/python3.6/dist-packages/tensorflow/contrib/learn/python/learn/datasets/mnist.py:290: DataSet.__init__ (from tensorflow.contrib.learn.python.learn.datasets.mnist) is deprecated and will be removed in a future version.\n",
            "Instructions for updating:\n",
            "Please use alternatives such as official/mnist/dataset.py from tensorflow/models.\n"
          ],
          "name": "stdout"
        }
      ]
    },
    {
      "metadata": {
        "id": "mIq-UYMV7lPM",
        "colab_type": "text"
      },
      "cell_type": "markdown",
      "source": [
        "## 1. Load the dataset\n",
        "for the train set, x_train contains the 55000 train images and y_train contains the onehot encoded label. Same applies to the validation and test set\n"
      ]
    },
    {
      "metadata": {
        "id": "54JONBsi2og5",
        "colab_type": "code",
        "colab": {}
      },
      "cell_type": "code",
      "source": [
        "x_train = mnist.train.images\n",
        "y_train = mnist.train.labels\n",
        "x_val = mnist.validation.images\n",
        "y_val = mnist.validation.labels\n",
        "x_test = mnist.test.images\n",
        "y_test = mnist.test.labels"
      ],
      "execution_count": 0,
      "outputs": []
    },
    {
      "metadata": {
        "id": "fyGSjVYm8QF5",
        "colab_type": "text"
      },
      "cell_type": "markdown",
      "source": [
        "The train images are 28x28 gray scale images. But the loaded images are flattened to be of size (1x784). Hence the size of the train set images is 55000 by 784. this means that there are 55000 examples of size (28*28=784). The same applies to the validation and test set"
      ]
    },
    {
      "metadata": {
        "id": "W0pFX8d_7fON",
        "colab_type": "code",
        "colab": {
          "base_uri": "https://localhost:8080/",
          "height": 88
        },
        "outputId": "7d74c62e-f837-4c33-fc31-248113d4cd11"
      },
      "cell_type": "code",
      "source": [
        "print('shape of train set is: {0}, this means that it has {1} examples'.format(x_train.shape, x_train.shape[0]))\n",
        "print('shape of validation set is: {0}, this means that it has {1} examples'.format(x_val.shape, x_val.shape[0]))\n",
        "print('shape of test set is: {0}, this means that it has {1} examples'.format(x_test.shape, x_test.shape[0]))"
      ],
      "execution_count": 3,
      "outputs": [
        {
          "output_type": "stream",
          "text": [
            "shape of train set is: (55000, 784), this means that it has 55000 examples\n",
            "shape of validation set is: (5000, 784), this means that it has 5000 examples\n",
            "shape of test set is: (10000, 784), this means that it has 10000 examples\n"
          ],
          "name": "stdout"
        }
      ]
    },
    {
      "metadata": {
        "id": "5bK94_BcKgpt",
        "colab_type": "text"
      },
      "cell_type": "markdown",
      "source": [
        "## 2. Visualize examples in each set"
      ]
    },
    {
      "metadata": {
        "id": "_WlCHS7PAsIo",
        "colab_type": "text"
      },
      "cell_type": "markdown",
      "source": [
        "View 10 random examples from train, validation and test set\n"
      ]
    },
    {
      "metadata": {
        "id": "45qVB5rpG6Su",
        "colab_type": "text"
      },
      "cell_type": "markdown",
      "source": [
        "View 10 random images from the train set"
      ]
    },
    {
      "metadata": {
        "id": "yfAfgPptB-se",
        "colab_type": "code",
        "colab": {
          "base_uri": "https://localhost:8080/",
          "height": 299
        },
        "outputId": "fc02f3cc-82fd-4b0c-a039-88ad3902e476"
      },
      "cell_type": "code",
      "source": [
        "view_image(x_train, y_train)"
      ],
      "execution_count": 4,
      "outputs": [
        {
          "output_type": "display_data",
          "data": {
            "image/png": "[encoded data removed]",
            "text/plain": [
              "<matplotlib.figure.Figure at 0x7f2c520d54e0>"
            ]
          },
          "metadata": {
            "tags": []
          }
        }
      ]
    },
    {
      "metadata": {
        "id": "awn7v9iZJcIo",
        "colab_type": "text"
      },
      "cell_type": "markdown",
      "source": [
        "View 10 random images from the validation set"
      ]
    },
    {
      "metadata": {
        "id": "RIgM8j_U-VLb",
        "colab_type": "code",
        "colab": {
          "base_uri": "https://localhost:8080/",
          "height": 279
        },
        "outputId": "4574ff5f-c87a-4cb3-e93b-c430663823cd"
      },
      "cell_type": "code",
      "source": [
        "view_image(x_val, y_val)"
      ],
      "execution_count": 5,
      "outputs": [
        {
          "output_type": "display_data",
          "data": {
            "image/png": "[encoded data removed]",
            "text/plain": [
              "<matplotlib.figure.Figure at 0x7f69190771d0>"
            ]
          },
          "metadata": {
            "tags": []
          }
        }
      ]
    },
    {
      "metadata": {
        "id": "dhFTCTnHJgCP",
        "colab_type": "text"
      },
      "cell_type": "markdown",
      "source": [
        "View 10 random images from the test set"
      ]
    },
    {
      "metadata": {
        "id": "uRupYMZdCA58",
        "colab_type": "code",
        "colab": {
          "base_uri": "https://localhost:8080/",
          "height": 279
        },
        "outputId": "1a3b0ad1-87a5-4419-9fb0-2bc3b66685af"
      },
      "cell_type": "code",
      "source": [
        "view_image(x_test, y_test)"
      ],
      "execution_count": 6,
      "outputs": [
        {
          "output_type": "display_data",
          "data": {
            "image/png": "[encoded data removed]",
            "text/plain": [
              "<matplotlib.figure.Figure at 0x7f6916606ef0>"
            ]
          },
          "metadata": {
            "tags": []
          }
        }
      ]
    },
    {
      "metadata": {
        "id": "LIluzD0HLuW6",
        "colab_type": "text"
      },
      "cell_type": "markdown",
      "source": [
        "## 3. Build a softmax regression model (a 1 layer neural network)and train it on the dataset.\n",
        "\n",
        "\n",
        "Build Computational Graph"
      ]
    },
    {
      "metadata": {
        "id": "8KVATReeJXo_",
        "colab_type": "code",
        "colab": {}
      },
      "cell_type": "code",
      "source": [
        "# input \n",
        "X = tf.placeholder(tf.float32, [None,784])\n",
        "# labels (onehot encoded)\n",
        "y = tf.placeholder(tf.float32, [None, 10])\n",
        "# weights\n",
        "W = tf.Variable(tf.zeros([784, 10]))\n",
        "# biases\n",
        "b = tf.Variable(tf.zeros([10]))\n",
        "\n",
        "# weigthed sum\n",
        "z = tf.matmul(X, W) + b\n",
        "\n",
        "# softmax activation\n",
        "h = tf.nn.softmax(z)\n",
        "\n",
        "# softmax cross entropy loss\n",
        "cross_entropy = -tf.reduce_mean(y * tf.log(h))\n",
        "\n",
        "# accuracy of the trained model, between 0 (worst) and 1 (best)\n",
        "correct_prediction = tf.equal(tf.argmax(h, 1), tf.argmax(y, 1))\n",
        "accuracy = tf.reduce_mean(tf.cast(correct_prediction, tf.float32))\n",
        "\n",
        "# training, learning rate = 0.005\n",
        "# learning rate\n",
        "lr = 0.05\n",
        "train_step = tf.train.GradientDescentOptimizer(lr).minimize(cross_entropy)\n"
      ],
      "execution_count": 0,
      "outputs": []
    },
    {
      "metadata": {
        "id": "ZWHM-c3bBcYn",
        "colab_type": "text"
      },
      "cell_type": "markdown",
      "source": [
        "Start the session"
      ]
    },
    {
      "metadata": {
        "id": "p67DYcSDU0La",
        "colab_type": "code",
        "colab": {}
      },
      "cell_type": "code",
      "source": [
        "# initialize all variables\n",
        "init = tf.global_variables_initializer()\n",
        "sess = tf.Session()\n",
        "sess.run(init)\n"
      ],
      "execution_count": 0,
      "outputs": []
    },
    {
      "metadata": {
        "id": "KeJzsGiRAhqw",
        "colab_type": "text"
      },
      "cell_type": "markdown",
      "source": [
        "Train for 100 epochs"
      ]
    },
    {
      "metadata": {
        "id": "tG4i3jLk4a8a",
        "colab_type": "code",
        "colab": {
          "base_uri": "https://localhost:8080/",
          "height": 5227
        },
        "outputId": "f9985475-9b34-4a38-b682-6a6901def8dc"
      },
      "cell_type": "code",
      "source": [
        "history = training(x_train, y_train, x_val, y_val, sess, epochs=100)"
      ],
      "execution_count": 9,
      "outputs": [
        {
          "output_type": "stream",
          "text": [
            "EPOCH 1.0\n",
            " train accuracy:0.6953818train loss: 0.09748107\n",
            " ********* validation accuracy:0.7118 validation loss: 0.0950911\n",
            "EPOCH 2.0\n",
            " train accuracy:0.7402train loss: 0.081834316\n",
            " ********* validation accuracy:0.7562 validation loss: 0.07904902\n",
            "EPOCH 3.0\n",
            " train accuracy:0.7607273train loss: 0.074757285\n",
            " ********* validation accuracy:0.7794 validation loss: 0.071665175\n",
            "EPOCH 4.0\n",
            " train accuracy:0.7740545train loss: 0.07041457\n",
            " ********* validation accuracy:0.7934 validation loss: 0.067059115\n",
            "EPOCH 5.0\n",
            " train accuracy:0.78334546train loss: 0.067379616\n",
            " ********* validation accuracy:0.8022 validation loss: 0.063785546\n",
            "EPOCH 6.0\n",
            " train accuracy:0.7894545train loss: 0.0650997\n",
            " ********* validation accuracy:0.81 validation loss: 0.06128302\n",
            "EPOCH 7.0\n",
            " train accuracy:0.7950364train loss: 0.06330534\n",
            " ********* validation accuracy:0.8182 validation loss: 0.059277657\n",
            "EPOCH 8.0\n",
            " train accuracy:0.79890907train loss: 0.06184602\n",
            " ********* validation accuracy:0.8222 validation loss: 0.05761658\n",
            "EPOCH 9.0\n",
            " train accuracy:0.8016train loss: 0.06062972\n",
            " ********* validation accuracy:0.8282 validation loss: 0.056206338\n",
            "EPOCH 10.0\n",
            " train accuracy:0.80472726train loss: 0.05959649\n",
            " ********* validation accuracy:0.8332 validation loss: 0.054986008\n",
            "EPOCH 11.0\n",
            " train accuracy:0.8071273train loss: 0.05870528\n",
            " ********* validation accuracy:0.8346 validation loss: 0.05391383\n",
            "EPOCH 12.0\n",
            " train accuracy:0.80898184train loss: 0.057926897\n",
            " ********* validation accuracy:0.8374 validation loss: 0.05296008\n",
            "EPOCH 13.0\n",
            " train accuracy:0.8108182train loss: 0.057239924\n",
            " ********* validation accuracy:0.8396 validation loss: 0.052102856\n",
            "EPOCH 14.0\n",
            " train accuracy:0.81267273train loss: 0.05662824\n",
            " ********* validation accuracy:0.8406 validation loss: 0.05132566\n",
            "EPOCH 15.0\n",
            " train accuracy:0.8137091train loss: 0.056079432\n",
            " ********* validation accuracy:0.8426 validation loss: 0.050615743\n",
            "EPOCH 16.0\n",
            " train accuracy:0.8153273train loss: 0.055583786\n",
            " ********* validation accuracy:0.8448 validation loss: 0.049963076\n",
            "EPOCH 17.0\n",
            " train accuracy:0.8167091train loss: 0.05513354\n",
            " ********* validation accuracy:0.845 validation loss: 0.049359657\n",
            "EPOCH 18.0\n",
            " train accuracy:0.81796366train loss: 0.05472247\n",
            " ********* validation accuracy:0.8478 validation loss: 0.048798993\n",
            "EPOCH 19.0\n",
            " train accuracy:0.81887275train loss: 0.054345436\n",
            " ********* validation accuracy:0.8492 validation loss: 0.048275758\n",
            "EPOCH 20.0\n",
            " train accuracy:0.8198train loss: 0.053998236\n",
            " ********* validation accuracy:0.85 validation loss: 0.047785513\n",
            "EPOCH 21.0\n",
            " train accuracy:0.8207273train loss: 0.053677328\n",
            " ********* validation accuracy:0.8514 validation loss: 0.04732456\n",
            "EPOCH 22.0\n",
            " train accuracy:0.8218train loss: 0.05337975\n",
            " ********* validation accuracy:0.854 validation loss: 0.04688977\n",
            "EPOCH 23.0\n",
            " train accuracy:0.8224train loss: 0.053102978\n",
            " ********* validation accuracy:0.8548 validation loss: 0.046478458\n",
            "EPOCH 24.0\n",
            " train accuracy:0.8232727train loss: 0.05284486\n",
            " ********* validation accuracy:0.8556 validation loss: 0.04608834\n",
            "EPOCH 25.0\n",
            " train accuracy:0.8243091train loss: 0.052603535\n",
            " ********* validation accuracy:0.8568 validation loss: 0.04571742\n",
            "EPOCH 26.0\n",
            " train accuracy:0.8247455train loss: 0.052377403\n",
            " ********* validation accuracy:0.8576 validation loss: 0.045363974\n",
            "EPOCH 27.0\n",
            " train accuracy:0.82525456train loss: 0.05216506\n",
            " ********* validation accuracy:0.8584 validation loss: 0.045026492\n",
            "EPOCH 28.0\n",
            " train accuracy:0.82565457train loss: 0.051965278\n",
            " ********* validation accuracy:0.8592 validation loss: 0.044703647\n",
            "EPOCH 29.0\n",
            " train accuracy:0.8259636train loss: 0.051776975\n",
            " ********* validation accuracy:0.8604 validation loss: 0.044394266\n",
            "EPOCH 30.0\n",
            " train accuracy:0.8263636train loss: 0.051599197\n",
            " ********* validation accuracy:0.8612 validation loss: 0.044097308\n",
            "EPOCH 31.0\n",
            " train accuracy:0.8267273train loss: 0.051431105\n",
            " ********* validation accuracy:0.862 validation loss: 0.04381184\n",
            "EPOCH 32.0\n",
            " train accuracy:0.8272182train loss: 0.051271938\n",
            " ********* validation accuracy:0.863 validation loss: 0.04353703\n",
            "EPOCH 33.0\n",
            " train accuracy:0.8273091train loss: 0.051121023\n",
            " ********* validation accuracy:0.8638 validation loss: 0.04327213\n",
            "EPOCH 34.0\n",
            " train accuracy:0.8277818train loss: 0.05097775\n",
            " ********* validation accuracy:0.8644 validation loss: 0.043016475\n",
            "EPOCH 35.0\n",
            " train accuracy:0.8283455train loss: 0.05084158\n",
            " ********* validation accuracy:0.8648 validation loss: 0.042769454\n",
            "EPOCH 36.0\n",
            " train accuracy:0.82854545train loss: 0.05071201\n",
            " ********* validation accuracy:0.8666 validation loss: 0.042530507\n",
            "EPOCH 37.0\n",
            " train accuracy:0.82878184train loss: 0.05058859\n",
            " ********* validation accuracy:0.8668 validation loss: 0.04229915\n",
            "EPOCH 38.0\n",
            " train accuracy:0.82894546train loss: 0.050470922\n",
            " ********* validation accuracy:0.868 validation loss: 0.042074904\n",
            "EPOCH 39.0\n",
            " train accuracy:0.8291636train loss: 0.050358634\n",
            " ********* validation accuracy:0.8684 validation loss: 0.04185736\n",
            "EPOCH 40.0\n",
            " train accuracy:0.8294train loss: 0.05025139\n",
            " ********* validation accuracy:0.8694 validation loss: 0.04164614\n",
            "EPOCH 41.0\n",
            " train accuracy:0.82961816train loss: 0.050148875\n",
            " ********* validation accuracy:0.8694 validation loss: 0.04144089\n",
            "EPOCH 42.0\n",
            " train accuracy:0.8297091train loss: 0.050050814\n",
            " ********* validation accuracy:0.8698 validation loss: 0.04124129\n",
            "EPOCH 43.0\n",
            " train accuracy:0.8298727train loss: 0.04995692\n",
            " ********* validation accuracy:0.87 validation loss: 0.041047025\n",
            "EPOCH 44.0\n",
            " train accuracy:0.83train loss: 0.04986699\n",
            " ********* validation accuracy:0.871 validation loss: 0.04085784\n",
            "EPOCH 45.0\n",
            " train accuracy:0.8300545train loss: 0.04978078\n",
            " ********* validation accuracy:0.8718 validation loss: 0.04067347\n",
            "EPOCH 46.0\n",
            " train accuracy:0.8302909train loss: 0.04969808\n",
            " ********* validation accuracy:0.872 validation loss: 0.040493663\n",
            "EPOCH 47.0\n",
            " train accuracy:0.8304545train loss: 0.049618714\n",
            " ********* validation accuracy:0.8724 validation loss: 0.04031822\n",
            "EPOCH 48.0\n",
            " train accuracy:0.83083636train loss: 0.049542498\n",
            " ********* validation accuracy:0.8732 validation loss: 0.040146932\n",
            "EPOCH 49.0\n",
            " train accuracy:0.8309818train loss: 0.049469274\n",
            " ********* validation accuracy:0.8736 validation loss: 0.03997961\n",
            "EPOCH 50.0\n",
            " train accuracy:0.8312train loss: 0.049398884\n",
            " ********* validation accuracy:0.8736 validation loss: 0.03981606\n",
            "EPOCH 51.0\n",
            " train accuracy:0.83132726train loss: 0.049331192\n",
            " ********* validation accuracy:0.8746 validation loss: 0.039656132\n",
            "EPOCH 52.0\n",
            " train accuracy:0.8314546train loss: 0.04926606\n",
            " ********* validation accuracy:0.875 validation loss: 0.039499663\n",
            "EPOCH 53.0\n",
            " train accuracy:0.83149093train loss: 0.049203366\n",
            " ********* validation accuracy:0.8752 validation loss: 0.039346505\n",
            "EPOCH 54.0\n",
            " train accuracy:0.83183634train loss: 0.049142994\n",
            " ********* validation accuracy:0.8752 validation loss: 0.03919653\n",
            "EPOCH 55.0\n",
            " train accuracy:0.8319455train loss: 0.049084846\n",
            " ********* validation accuracy:0.8756 validation loss: 0.03904959\n",
            "EPOCH 56.0\n",
            " train accuracy:0.83198184train loss: 0.04902881\n",
            " ********* validation accuracy:0.8758 validation loss: 0.03890559\n",
            "EPOCH 57.0\n",
            " train accuracy:0.83198184train loss: 0.048974786\n",
            " ********* validation accuracy:0.876 validation loss: 0.03876439\n",
            "EPOCH 58.0\n",
            " train accuracy:0.8322727train loss: 0.048922695\n",
            " ********* validation accuracy:0.8764 validation loss: 0.038625896\n",
            "EPOCH 59.0\n",
            " train accuracy:0.83265454train loss: 0.04887245\n",
            " ********* validation accuracy:0.8776 validation loss: 0.038490005\n",
            "EPOCH 60.0\n",
            " train accuracy:0.8328182train loss: 0.04882398\n",
            " ********* validation accuracy:0.8778 validation loss: 0.03835662\n",
            "EPOCH 61.0\n",
            " train accuracy:0.83296365train loss: 0.04877719\n",
            " ********* validation accuracy:0.8786 validation loss: 0.038225647\n",
            "EPOCH 62.0\n",
            " train accuracy:0.83327276train loss: 0.048732024\n",
            " ********* validation accuracy:0.8792 validation loss: 0.038097005\n",
            "EPOCH 63.0\n",
            " train accuracy:0.83338183train loss: 0.048688408\n",
            " ********* validation accuracy:0.8794 validation loss: 0.03797061\n",
            "EPOCH 64.0\n",
            " train accuracy:0.8335091train loss: 0.048646294\n",
            " ********* validation accuracy:0.8796 validation loss: 0.037846383\n",
            "EPOCH 65.0\n",
            " train accuracy:0.8335636train loss: 0.0486056\n",
            " ********* validation accuracy:0.8794 validation loss: 0.03772424\n",
            "EPOCH 66.0\n",
            " train accuracy:0.8335091train loss: 0.048566293\n",
            " ********* validation accuracy:0.8796 validation loss: 0.037604135\n",
            "EPOCH 67.0\n",
            " train accuracy:0.8335091train loss: 0.048528306\n",
            " ********* validation accuracy:0.8796 validation loss: 0.03748599\n",
            "EPOCH 68.0\n",
            " train accuracy:0.83352727train loss: 0.048491593\n",
            " ********* validation accuracy:0.8798 validation loss: 0.037369736\n",
            "EPOCH 69.0\n",
            " train accuracy:0.8336909train loss: 0.048456106\n",
            " ********* validation accuracy:0.8798 validation loss: 0.03725532\n",
            "EPOCH 70.0\n",
            " train accuracy:0.8337455train loss: 0.048421793\n",
            " ********* validation accuracy:0.8808 validation loss: 0.03714268\n",
            "EPOCH 71.0\n",
            " train accuracy:0.8339091train loss: 0.048388623\n",
            " ********* validation accuracy:0.8812 validation loss: 0.037031762\n",
            "EPOCH 72.0\n",
            " train accuracy:0.83396363train loss: 0.04835655\n",
            " ********* validation accuracy:0.8814 validation loss: 0.036922514\n",
            "EPOCH 73.0\n",
            " train accuracy:0.8340182train loss: 0.048325527\n",
            " ********* validation accuracy:0.8814 validation loss: 0.03681489\n",
            "EPOCH 74.0\n",
            " train accuracy:0.83416367train loss: 0.04829552\n",
            " ********* validation accuracy:0.8818 validation loss: 0.03670884\n",
            "EPOCH 75.0\n",
            " train accuracy:0.8342364train loss: 0.048266508\n",
            " ********* validation accuracy:0.882 validation loss: 0.03660431\n",
            "EPOCH 76.0\n",
            " train accuracy:0.8343818train loss: 0.048238438\n",
            " ********* validation accuracy:0.8826 validation loss: 0.03650127\n",
            "EPOCH 77.0\n",
            " train accuracy:0.8344182train loss: 0.048211284\n",
            " ********* validation accuracy:0.883 validation loss: 0.036399674\n",
            "EPOCH 78.0\n",
            " train accuracy:0.83445454train loss: 0.048185024\n",
            " ********* validation accuracy:0.883 validation loss: 0.036299475\n",
            "EPOCH 79.0\n",
            " train accuracy:0.8345091train loss: 0.048159618\n",
            " ********* validation accuracy:0.8834 validation loss: 0.03620064\n",
            "EPOCH 80.0\n",
            " train accuracy:0.8345818train loss: 0.04813504\n",
            " ********* validation accuracy:0.8838 validation loss: 0.036103126\n",
            "EPOCH 81.0\n",
            " train accuracy:0.8347273train loss: 0.048111256\n",
            " ********* validation accuracy:0.8842 validation loss: 0.03600691\n",
            "EPOCH 82.0\n",
            " train accuracy:0.8349091train loss: 0.048088264\n",
            " ********* validation accuracy:0.8846 validation loss: 0.035911944\n",
            "EPOCH 83.0\n",
            " train accuracy:0.8348909train loss: 0.048066016\n",
            " ********* validation accuracy:0.8854 validation loss: 0.035818204\n",
            "EPOCH 84.0\n",
            " train accuracy:0.83483636train loss: 0.048044495\n",
            " ********* validation accuracy:0.8858 validation loss: 0.03572566\n",
            "EPOCH 85.0\n",
            " train accuracy:0.83483636train loss: 0.048023686\n",
            " ********* validation accuracy:0.8858 validation loss: 0.03563427\n",
            "EPOCH 86.0\n",
            " train accuracy:0.8348727train loss: 0.048003566\n",
            " ********* validation accuracy:0.8862 validation loss: 0.03554402\n",
            "EPOCH 87.0\n",
            " train accuracy:0.8348727train loss: 0.047984105\n",
            " ********* validation accuracy:0.8872 validation loss: 0.03545487\n",
            "EPOCH 88.0\n",
            " train accuracy:0.8350545train loss: 0.047965277\n",
            " ********* validation accuracy:0.8874 validation loss: 0.035366796\n",
            "EPOCH 89.0\n",
            " train accuracy:0.8351273train loss: 0.047947083\n",
            " ********* validation accuracy:0.8876 validation loss: 0.035279784\n",
            "EPOCH 90.0\n",
            " train accuracy:0.8351091train loss: 0.047929503\n",
            " ********* validation accuracy:0.8876 validation loss: 0.035193793\n",
            "EPOCH 91.0\n",
            " train accuracy:0.8352train loss: 0.04791249\n",
            " ********* validation accuracy:0.8878 validation loss: 0.035108805\n",
            "EPOCH 92.0\n",
            " train accuracy:0.83525455train loss: 0.04789607\n",
            " ********* validation accuracy:0.888 validation loss: 0.035024792\n",
            "EPOCH 93.0\n",
            " train accuracy:0.83534545train loss: 0.047880203\n",
            " ********* validation accuracy:0.888 validation loss: 0.034941744\n",
            "EPOCH 94.0\n",
            " train accuracy:0.83532727train loss: 0.047864854\n",
            " ********* validation accuracy:0.8886 validation loss: 0.03485962\n",
            "EPOCH 95.0\n",
            " train accuracy:0.8354727train loss: 0.047850054\n",
            " ********* validation accuracy:0.889 validation loss: 0.034778416\n",
            "EPOCH 96.0\n",
            " train accuracy:0.83550906train loss: 0.04783576\n",
            " ********* validation accuracy:0.8896 validation loss: 0.0346981\n",
            "EPOCH 97.0\n",
            " train accuracy:0.8354727train loss: 0.047821954\n",
            " ********* validation accuracy:0.89 validation loss: 0.03461867\n",
            "EPOCH 98.0\n",
            " train accuracy:0.83550906train loss: 0.04780865\n",
            " ********* validation accuracy:0.8902 validation loss: 0.034540094\n",
            "EPOCH 99.0\n",
            " train accuracy:0.8355455train loss: 0.047795787\n",
            " ********* validation accuracy:0.8904 validation loss: 0.03446233\n",
            "EPOCH 100.0\n",
            " train accuracy:0.8355455train loss: 0.0477834\n",
            " ********* validation accuracy:0.8906 validation loss: 0.034385417\n"
          ],
          "name": "stdout"
        }
      ]
    },
    {
      "metadata": {
        "id": "ksNrxDcFQN59",
        "colab_type": "text"
      },
      "cell_type": "markdown",
      "source": [
        "plot the train and validation acurracy and loss against the number of epochs"
      ]
    },
    {
      "metadata": {
        "id": "XwyJ_ytTP9Fp",
        "colab_type": "code",
        "colab": {
          "base_uri": "https://localhost:8080/",
          "height": 365
        },
        "outputId": "58a76299-615c-433e-9bbf-480cde59ab1b"
      },
      "cell_type": "code",
      "source": [
        "plot_history(history)"
      ],
      "execution_count": 10,
      "outputs": [
        {
          "output_type": "display_data",
          "data": {
            "image/png": "[encoded data removed]",
            "text/plain": [
              "<matplotlib.figure.Figure at 0x7f691660e320>"
            ]
          },
          "metadata": {
            "tags": []
          }
        }
      ]
    },
    {
      "metadata": {
        "id": "aH__v13zQaBS",
        "colab_type": "text"
      },
      "cell_type": "markdown",
      "source": [
        "Obtain the test accuracy"
      ]
    },
    {
      "metadata": {
        "id": "qk5hIPFoQZP5",
        "colab_type": "code",
        "colab": {
          "base_uri": "https://localhost:8080/",
          "height": 34
        },
        "outputId": "c8a8a5d5-8f8c-4323-de01-71d5b5065197"
      },
      "cell_type": "code",
      "source": [
        "a_test, c_test  = sess.run([accuracy, cross_entropy], feed_dict={X: x_test, y: y_test})\n",
        "\n",
        "print('Test accuracy is: ', (\"%.2f\"%(a_test*100))+'%')"
      ],
      "execution_count": 11,
      "outputs": [
        {
          "output_type": "stream",
          "text": [
            "Test accuracy is:  82.24%\n"
          ],
          "name": "stdout"
        }
      ]
    },
    {
      "metadata": {
        "id": "mqPhv-PHLftr",
        "colab_type": "code",
        "colab": {}
      },
      "cell_type": "code",
      "source": [
        "sess.close()"
      ],
      "execution_count": 0,
      "outputs": []
    },
    {
      "metadata": {
        "id": "hberBIgCRzXd",
        "colab_type": "text"
      },
      "cell_type": "markdown",
      "source": [
        "You can try increasing the number of epochs for better accuracy"
      ]
    },
    {
      "metadata": {
        "id": "2gWfbEKXA_3Y",
        "colab_type": "text"
      },
      "cell_type": "markdown",
      "source": [
        "## 4. Add a hidden layer of 200 neurons, use sigmoid activation for hidden units, train and obtain train, validation and test accuracies and loss\n",
        "\n",
        "Computational graph"
      ]
    },
    {
      "metadata": {
        "id": "TroRdqrI7_vX",
        "colab_type": "code",
        "colab": {}
      },
      "cell_type": "code",
      "source": [
        "#Create computational graph\n",
        "\n",
        "# input \n",
        "X = tf.placeholder(tf.float32, [None,784])\n",
        "# labels (onehot encoded)\n",
        "y = tf.placeholder(tf.float32, [None, 10])\n",
        "\n",
        "''' First hidden layer with 200 neurons'''\n",
        "# weights 1\n",
        "W1 = tf.Variable(tf.truncated_normal([784, 200], stddev=0.1))\n",
        "# biases 1\n",
        "b1 = tf.Variable(tf.zeros([200]))\n",
        "\n",
        "# weigthed sum\n",
        "z1 = tf.matmul(X, W1) + b1\n",
        "\n",
        "#  activation\n",
        "h1 = tf.nn.sigmoid(z1)\n",
        "\n",
        "\n",
        "''' Second/output Layer'''\n",
        "# weights 2\n",
        "W2 = tf.Variable(tf.truncated_normal([200, 10], stddev=0.1))\n",
        "# biases 2\n",
        "b2 = tf.Variable(tf.zeros([10]))\n",
        "\n",
        "# weigthed sum\n",
        "z2 = tf.matmul(h1, W2) + b2\n",
        "\n",
        "# softmax activation\n",
        "h2 = tf.nn.softmax(z2)\n",
        "\n",
        "# softmax cross entropy loss\n",
        "cross_entropy = -tf.reduce_mean(y * tf.log(h2))\n",
        "\n",
        "# accuracy of the trained model, between 0 (worst) and 1 (best)\n",
        "correct_prediction = tf.equal(tf.argmax(h2, 1), tf.argmax(y, 1))\n",
        "accuracy = tf.reduce_mean(tf.cast(correct_prediction, tf.float32))\n",
        "\n",
        "# training, learning rate = 0.005\n",
        "# learning rate\n",
        "lr = 0.005\n",
        "train_step = tf.train.GradientDescentOptimizer(lr).minimize(cross_entropy)"
      ],
      "execution_count": 0,
      "outputs": []
    },
    {
      "metadata": {
        "id": "P74SqWbSSOvh",
        "colab_type": "code",
        "colab": {}
      },
      "cell_type": "code",
      "source": [
        ""
      ],
      "execution_count": 0,
      "outputs": []
    },
    {
      "metadata": {
        "id": "ItGQVt1SSPR6",
        "colab_type": "text"
      },
      "cell_type": "markdown",
      "source": [
        "Start session"
      ]
    },
    {
      "metadata": {
        "id": "XpiYTydxJEbH",
        "colab_type": "code",
        "colab": {}
      },
      "cell_type": "code",
      "source": [
        "#Start session\n",
        "\n",
        "# initialize all variables\n",
        "init = tf.global_variables_initializer()\n",
        "sess = tf.Session()\n",
        "sess.run(init)\n"
      ],
      "execution_count": 0,
      "outputs": []
    },
    {
      "metadata": {
        "id": "1Ea8h4_RLnDo",
        "colab_type": "code",
        "colab": {
          "base_uri": "https://localhost:8080/",
          "height": 5227
        },
        "outputId": "5a217d4d-7bea-4113-90c4-aa1d5da9cb5a"
      },
      "cell_type": "code",
      "source": [
        "history = training(x_train, y_train, x_val, y_val, sess, epochs=100)"
      ],
      "execution_count": 15,
      "outputs": [
        {
          "output_type": "stream",
          "text": [
            "EPOCH 1.0\n",
            " train accuracy:0.14101818train loss: 0.22722015\n",
            " ********* validation accuracy:0.139 validation loss: 0.22754823\n",
            "EPOCH 2.0\n",
            " train accuracy:0.29067272train loss: 0.21755482\n",
            " ********* validation accuracy:0.2964 validation loss: 0.21705866\n",
            "EPOCH 3.0\n",
            " train accuracy:0.36741817train loss: 0.20957184\n",
            " ********* validation accuracy:0.379 validation loss: 0.20878148\n",
            "EPOCH 4.0\n",
            " train accuracy:0.43227273train loss: 0.20209558\n",
            " ********* validation accuracy:0.4466 validation loss: 0.20112883\n",
            "EPOCH 5.0\n",
            " train accuracy:0.50823635train loss: 0.195091\n",
            " ********* validation accuracy:0.5216 validation loss: 0.19398226\n",
            "EPOCH 6.0\n",
            " train accuracy:0.5497818train loss: 0.18853155\n",
            " ********* validation accuracy:0.5646 validation loss: 0.18729918\n",
            "EPOCH 7.0\n",
            " train accuracy:0.57345456train loss: 0.18238968\n",
            " ********* validation accuracy:0.5846 validation loss: 0.18104811\n",
            "EPOCH 8.0\n",
            " train accuracy:0.59147274train loss: 0.17664066\n",
            " ********* validation accuracy:0.6028 validation loss: 0.17520258\n",
            "EPOCH 9.0\n",
            " train accuracy:0.6062545train loss: 0.17126203\n",
            " ********* validation accuracy:0.621 validation loss: 0.16973881\n",
            "EPOCH 10.0\n",
            " train accuracy:0.6179818train loss: 0.16623245\n",
            " ********* validation accuracy:0.6344 validation loss: 0.16463426\n",
            "EPOCH 11.0\n",
            " train accuracy:0.6288364train loss: 0.16153109\n",
            " ********* validation accuracy:0.6458 validation loss: 0.1598669\n",
            "EPOCH 12.0\n",
            " train accuracy:0.63714546train loss: 0.1571373\n",
            " ********* validation accuracy:0.6566 validation loss: 0.15541504\n",
            "EPOCH 13.0\n",
            " train accuracy:0.6451273train loss: 0.15303074\n",
            " ********* validation accuracy:0.6632 validation loss: 0.15125734\n",
            "EPOCH 14.0\n",
            " train accuracy:0.6522727train loss: 0.14919151\n",
            " ********* validation accuracy:0.6718 validation loss: 0.14737302\n",
            "EPOCH 15.0\n",
            " train accuracy:0.6591273train loss: 0.14560035\n",
            " ********* validation accuracy:0.678 validation loss: 0.14374197\n",
            "EPOCH 16.0\n",
            " train accuracy:0.6652182train loss: 0.14223878\n",
            " ********* validation accuracy:0.6826 validation loss: 0.14034502\n",
            "EPOCH 17.0\n",
            " train accuracy:0.6706train loss: 0.13908927\n",
            " ********* validation accuracy:0.688 validation loss: 0.13716404\n",
            "EPOCH 18.0\n",
            " train accuracy:0.6756727train loss: 0.13613547\n",
            " ********* validation accuracy:0.693 validation loss: 0.13418213\n",
            "EPOCH 19.0\n",
            " train accuracy:0.67996365train loss: 0.13336204\n",
            " ********* validation accuracy:0.6984 validation loss: 0.13138343\n",
            "EPOCH 20.0\n",
            " train accuracy:0.6838545train loss: 0.13075483\n",
            " ********* validation accuracy:0.702 validation loss: 0.12875342\n",
            "EPOCH 21.0\n",
            " train accuracy:0.6878train loss: 0.12830082\n",
            " ********* validation accuracy:0.7064 validation loss: 0.12627873\n",
            "EPOCH 22.0\n",
            " train accuracy:0.6917273train loss: 0.125988\n",
            " ********* validation accuracy:0.7126 validation loss: 0.123947054\n",
            "EPOCH 23.0\n",
            " train accuracy:0.69505453train loss: 0.123805486\n",
            " ********* validation accuracy:0.7152 validation loss: 0.121747226\n",
            "EPOCH 24.0\n",
            " train accuracy:0.6981818train loss: 0.121743195\n",
            " ********* validation accuracy:0.7186 validation loss: 0.119668975\n",
            "EPOCH 25.0\n",
            " train accuracy:0.70149094train loss: 0.11979213\n",
            " ********* validation accuracy:0.7206 validation loss: 0.117703065\n",
            "EPOCH 26.0\n",
            " train accuracy:0.7038909train loss: 0.117943846\n",
            " ********* validation accuracy:0.724 validation loss: 0.11584093\n",
            "EPOCH 27.0\n",
            " train accuracy:0.7065091train loss: 0.116190836\n",
            " ********* validation accuracy:0.7268 validation loss: 0.11407493\n",
            "EPOCH 28.0\n",
            " train accuracy:0.70861816train loss: 0.11452621\n",
            " ********* validation accuracy:0.7284 validation loss: 0.11239802\n",
            "EPOCH 29.0\n",
            " train accuracy:0.71074545train loss: 0.11294365\n",
            " ********* validation accuracy:0.7302 validation loss: 0.11080378\n",
            "EPOCH 30.0\n",
            " train accuracy:0.7127454train loss: 0.11143737\n",
            " ********* validation accuracy:0.7316 validation loss: 0.10928636\n",
            "EPOCH 31.0\n",
            " train accuracy:0.7146909train loss: 0.1100022\n",
            " ********* validation accuracy:0.7326 validation loss: 0.107840486\n",
            "EPOCH 32.0\n",
            " train accuracy:0.71656364train loss: 0.108633265\n",
            " ********* validation accuracy:0.7356 validation loss: 0.10646124\n",
            "EPOCH 33.0\n",
            " train accuracy:0.7182182train loss: 0.10732619\n",
            " ********* validation accuracy:0.7376 validation loss: 0.10514418\n",
            "EPOCH 34.0\n",
            " train accuracy:0.7199818train loss: 0.10607698\n",
            " ********* validation accuracy:0.7392 validation loss: 0.10388523\n",
            "EPOCH 35.0\n",
            " train accuracy:0.72154546train loss: 0.104881875\n",
            " ********* validation accuracy:0.741 validation loss: 0.10268065\n",
            "EPOCH 36.0\n",
            " train accuracy:0.7228182train loss: 0.10373751\n",
            " ********* validation accuracy:0.7422 validation loss: 0.10152699\n",
            "EPOCH 37.0\n",
            " train accuracy:0.72432727train loss: 0.10264077\n",
            " ********* validation accuracy:0.7438 validation loss: 0.10042109\n",
            "EPOCH 38.0\n",
            " train accuracy:0.72545457train loss: 0.10158875\n",
            " ********* validation accuracy:0.7452 validation loss: 0.09936005\n",
            "EPOCH 39.0\n",
            " train accuracy:0.7263273train loss: 0.10057877\n",
            " ********* validation accuracy:0.7458 validation loss: 0.09834115\n",
            "EPOCH 40.0\n",
            " train accuracy:0.72769094train loss: 0.09960845\n",
            " ********* validation accuracy:0.747 validation loss: 0.097361974\n",
            "EPOCH 41.0\n",
            " train accuracy:0.72894543train loss: 0.09867543\n",
            " ********* validation accuracy:0.7478 validation loss: 0.096420154\n",
            "EPOCH 42.0\n",
            " train accuracy:0.73train loss: 0.09777764\n",
            " ********* validation accuracy:0.7492 validation loss: 0.095513605\n",
            "EPOCH 43.0\n",
            " train accuracy:0.7311818train loss: 0.096913114\n",
            " ********* validation accuracy:0.7502 validation loss: 0.09464035\n",
            "EPOCH 44.0\n",
            " train accuracy:0.7322train loss: 0.09608004\n",
            " ********* validation accuracy:0.7508 validation loss: 0.093798555\n",
            "EPOCH 45.0\n",
            " train accuracy:0.73276365train loss: 0.09527674\n",
            " ********* validation accuracy:0.7508 validation loss: 0.092986524\n",
            "EPOCH 46.0\n",
            " train accuracy:0.73376364train loss: 0.09450164\n",
            " ********* validation accuracy:0.7512 validation loss: 0.09220271\n",
            "EPOCH 47.0\n",
            " train accuracy:0.73454547train loss: 0.093753286\n",
            " ********* validation accuracy:0.7518 validation loss: 0.09144559\n",
            "EPOCH 48.0\n",
            " train accuracy:0.73545456train loss: 0.093030296\n",
            " ********* validation accuracy:0.7534 validation loss: 0.0907138\n",
            "EPOCH 49.0\n",
            " train accuracy:0.7362546train loss: 0.0923314\n",
            " ********* validation accuracy:0.7538 validation loss: 0.090006106\n",
            "EPOCH 50.0\n",
            " train accuracy:0.73687273train loss: 0.09165541\n",
            " ********* validation accuracy:0.7542 validation loss: 0.08932125\n",
            "EPOCH 51.0\n",
            " train accuracy:0.73745453train loss: 0.09100119\n",
            " ********* validation accuracy:0.7548 validation loss: 0.088658154\n",
            "EPOCH 52.0\n",
            " train accuracy:0.7382182train loss: 0.09036773\n",
            " ********* validation accuracy:0.7552 validation loss: 0.08801574\n",
            "EPOCH 53.0\n",
            " train accuracy:0.7386909train loss: 0.089754015\n",
            " ********* validation accuracy:0.7558 validation loss: 0.087393045\n",
            "EPOCH 54.0\n",
            " train accuracy:0.7394182train loss: 0.08915912\n",
            " ********* validation accuracy:0.7566 validation loss: 0.08678912\n",
            "EPOCH 55.0\n",
            " train accuracy:0.7401818train loss: 0.088582225\n",
            " ********* validation accuracy:0.7572 validation loss: 0.08620313\n",
            "EPOCH 56.0\n",
            " train accuracy:0.7408909train loss: 0.08802248\n",
            " ********* validation accuracy:0.758 validation loss: 0.08563423\n",
            "EPOCH 57.0\n",
            " train accuracy:0.74163634train loss: 0.087479144\n",
            " ********* validation accuracy:0.7588 validation loss: 0.08508169\n",
            "EPOCH 58.0\n",
            " train accuracy:0.742train loss: 0.086951464\n",
            " ********* validation accuracy:0.7592 validation loss: 0.08454473\n",
            "EPOCH 59.0\n",
            " train accuracy:0.7423273train loss: 0.08643876\n",
            " ********* validation accuracy:0.76 validation loss: 0.08402271\n",
            "EPOCH 60.0\n",
            " train accuracy:0.74283636train loss: 0.0859404\n",
            " ********* validation accuracy:0.7602 validation loss: 0.08351496\n",
            "EPOCH 61.0\n",
            " train accuracy:0.74325454train loss: 0.08545579\n",
            " ********* validation accuracy:0.761 validation loss: 0.083020926\n",
            "EPOCH 62.0\n",
            " train accuracy:0.7438train loss: 0.08498436\n",
            " ********* validation accuracy:0.7608 validation loss: 0.08254\n",
            "EPOCH 63.0\n",
            " train accuracy:0.7442train loss: 0.08452554\n",
            " ********* validation accuracy:0.7616 validation loss: 0.082071625\n",
            "EPOCH 64.0\n",
            " train accuracy:0.74494547train loss: 0.08407883\n",
            " ********* validation accuracy:0.7618 validation loss: 0.08161531\n",
            "EPOCH 65.0\n",
            " train accuracy:0.74527276train loss: 0.08364377\n",
            " ********* validation accuracy:0.7628 validation loss: 0.08117057\n",
            "EPOCH 66.0\n",
            " train accuracy:0.7454909train loss: 0.08321984\n",
            " ********* validation accuracy:0.7632 validation loss: 0.08073692\n",
            "EPOCH 67.0\n",
            " train accuracy:0.7461636train loss: 0.08280665\n",
            " ********* validation accuracy:0.7638 validation loss: 0.08031394\n",
            "EPOCH 68.0\n",
            " train accuracy:0.7466909train loss: 0.082403764\n",
            " ********* validation accuracy:0.7646 validation loss: 0.07990124\n",
            "EPOCH 69.0\n",
            " train accuracy:0.74725455train loss: 0.082010806\n",
            " ********* validation accuracy:0.7646 validation loss: 0.079498395\n",
            "EPOCH 70.0\n",
            " train accuracy:0.7478182train loss: 0.081627384\n",
            " ********* validation accuracy:0.765 validation loss: 0.07910505\n",
            "EPOCH 71.0\n",
            " train accuracy:0.74823636train loss: 0.081253156\n",
            " ********* validation accuracy:0.7656 validation loss: 0.07872082\n",
            "EPOCH 72.0\n",
            " train accuracy:0.7485818train loss: 0.0808878\n",
            " ********* validation accuracy:0.7654 validation loss: 0.07834543\n",
            "EPOCH 73.0\n",
            " train accuracy:0.74914545train loss: 0.08053095\n",
            " ********* validation accuracy:0.7662 validation loss: 0.07797851\n",
            "EPOCH 74.0\n",
            " train accuracy:0.7496train loss: 0.08018231\n",
            " ********* validation accuracy:0.766 validation loss: 0.07761974\n",
            "EPOCH 75.0\n",
            " train accuracy:0.7500727train loss: 0.07984157\n",
            " ********* validation accuracy:0.7666 validation loss: 0.07726884\n",
            "EPOCH 76.0\n",
            " train accuracy:0.75045455train loss: 0.079508476\n",
            " ********* validation accuracy:0.7674 validation loss: 0.076925546\n",
            "EPOCH 77.0\n",
            " train accuracy:0.7509818train loss: 0.07918278\n",
            " ********* validation accuracy:0.7676 validation loss: 0.0765896\n",
            "EPOCH 78.0\n",
            " train accuracy:0.7513273train loss: 0.07886422\n",
            " ********* validation accuracy:0.768 validation loss: 0.07626075\n",
            "EPOCH 79.0\n",
            " train accuracy:0.75176364train loss: 0.07855251\n",
            " ********* validation accuracy:0.7684 validation loss: 0.07593871\n",
            "EPOCH 80.0\n",
            " train accuracy:0.75216365train loss: 0.07824743\n",
            " ********* validation accuracy:0.7684 validation loss: 0.075623274\n",
            "EPOCH 81.0\n",
            " train accuracy:0.7526364train loss: 0.07794881\n",
            " ********* validation accuracy:0.7684 validation loss: 0.07531426\n",
            "EPOCH 82.0\n",
            " train accuracy:0.7530182train loss: 0.077656366\n",
            " ********* validation accuracy:0.7696 validation loss: 0.07501139\n",
            "EPOCH 83.0\n",
            " train accuracy:0.7535273train loss: 0.07736992\n",
            " ********* validation accuracy:0.7696 validation loss: 0.07471448\n",
            "EPOCH 84.0\n",
            " train accuracy:0.7538train loss: 0.077089265\n",
            " ********* validation accuracy:0.7708 validation loss: 0.07442335\n",
            "EPOCH 85.0\n",
            " train accuracy:0.7541636train loss: 0.07681425\n",
            " ********* validation accuracy:0.7712 validation loss: 0.074137814\n",
            "EPOCH 86.0\n",
            " train accuracy:0.7544909train loss: 0.07654466\n",
            " ********* validation accuracy:0.7716 validation loss: 0.07385769\n",
            "EPOCH 87.0\n",
            " train accuracy:0.7548909train loss: 0.07628035\n",
            " ********* validation accuracy:0.7716 validation loss: 0.07358281\n",
            "EPOCH 88.0\n",
            " train accuracy:0.7552182train loss: 0.07602114\n",
            " ********* validation accuracy:0.772 validation loss: 0.07331303\n",
            "EPOCH 89.0\n",
            " train accuracy:0.7558train loss: 0.07576689\n",
            " ********* validation accuracy:0.7722 validation loss: 0.07304817\n",
            "EPOCH 90.0\n",
            " train accuracy:0.75594544train loss: 0.075517446\n",
            " ********* validation accuracy:0.7728 validation loss: 0.07278808\n",
            "EPOCH 91.0\n",
            " train accuracy:0.75641817train loss: 0.07527261\n",
            " ********* validation accuracy:0.773 validation loss: 0.07253261\n",
            "EPOCH 92.0\n",
            " train accuracy:0.75685453train loss: 0.07503231\n",
            " ********* validation accuracy:0.773 validation loss: 0.07228163\n",
            "EPOCH 93.0\n",
            " train accuracy:0.75723636train loss: 0.07479634\n",
            " ********* validation accuracy:0.7732 validation loss: 0.07203498\n",
            "EPOCH 94.0\n",
            " train accuracy:0.7573636train loss: 0.07456465\n",
            " ********* validation accuracy:0.7736 validation loss: 0.07179259\n",
            "EPOCH 95.0\n",
            " train accuracy:0.75774544train loss: 0.07433709\n",
            " ********* validation accuracy:0.7742 validation loss: 0.0715543\n",
            "EPOCH 96.0\n",
            " train accuracy:0.75830907train loss: 0.0741135\n",
            " ********* validation accuracy:0.7746 validation loss: 0.07132\n",
            "EPOCH 97.0\n",
            " train accuracy:0.7585091train loss: 0.07389381\n",
            " ********* validation accuracy:0.775 validation loss: 0.07108954\n",
            "EPOCH 98.0\n",
            " train accuracy:0.759train loss: 0.07367787\n",
            " ********* validation accuracy:0.7758 validation loss: 0.07086288\n",
            "EPOCH 99.0\n",
            " train accuracy:0.75912726train loss: 0.07346565\n",
            " ********* validation accuracy:0.776 validation loss: 0.070639886\n",
            "EPOCH 100.0\n",
            " train accuracy:0.7593273train loss: 0.07325695\n",
            " ********* validation accuracy:0.776 validation loss: 0.07042042\n"
          ],
          "name": "stdout"
        }
      ]
    },
    {
      "metadata": {
        "id": "AhihJDfKx-mH",
        "colab_type": "code",
        "colab": {
          "base_uri": "https://localhost:8080/",
          "height": 361
        },
        "outputId": "61dddf8e-0459-4bb2-f3ea-2b358afe08af"
      },
      "cell_type": "code",
      "source": [
        "plot_history(history)"
      ],
      "execution_count": 16,
      "outputs": [
        {
          "output_type": "display_data",
          "data": {
            "image/png": "[encoded data removed]",
            "text/plain": [
              "<matplotlib.figure.Figure at 0x7f6911202ba8>"
            ]
          },
          "metadata": {
            "tags": []
          }
        }
      ]
    },
    {
      "metadata": {
        "id": "bpsEIn_-ShHL",
        "colab_type": "code",
        "colab": {
          "base_uri": "https://localhost:8080/",
          "height": 34
        },
        "outputId": "6ca95206-4d5b-45b3-a1cc-4d46f0b31305"
      },
      "cell_type": "code",
      "source": [
        "a_test, c_test  = sess.run([accuracy, cross_entropy], feed_dict={X: x_test, y: y_test})\n",
        "\n",
        "print('Test accuracy is: ', (\"%.2f\"%(a_test*100))+'%')"
      ],
      "execution_count": 17,
      "outputs": [
        {
          "output_type": "stream",
          "text": [
            "Test accuracy is:  75.02%\n"
          ],
          "name": "stdout"
        }
      ]
    },
    {
      "metadata": {
        "id": "b8puHuHPSh5L",
        "colab_type": "code",
        "colab": {}
      },
      "cell_type": "code",
      "source": [
        "sess.close()"
      ],
      "execution_count": 0,
      "outputs": []
    },
    {
      "metadata": {
        "id": "BYvKaU1WT2HZ",
        "colab_type": "text"
      },
      "cell_type": "markdown",
      "source": [
        "You can try increasing the number of epochs for better accuracy"
      ]
    },
    {
      "metadata": {
        "id": "pcvZJfOK4abr",
        "colab_type": "text"
      },
      "cell_type": "markdown",
      "source": [
        "# You are to build the computational graph by completing the required code statement with None assigned"
      ]
    },
    {
      "metadata": {
        "id": "wqg1bwq5MmZQ",
        "colab_type": "text"
      },
      "cell_type": "markdown",
      "source": [
        "## 5. Build a five layer neural network with sigmoid activation"
      ]
    },
    {
      "metadata": {
        "id": "DRDdoKBSMsdY",
        "colab_type": "code",
        "colab": {}
      },
      "cell_type": "code",
      "source": [
        "#Create computational graph\n",
        "\n",
        "# input \n",
        "X = tf.placeholder(tf.float32, [None,784])\n",
        "# labels (onehot encoded)\n",
        "y = tf.placeholder(tf.float32, [None, 10])\n",
        "\n",
        "''' First hidden layer with 200 neurons'''\n",
        "# weights 1\n",
        "W1 = tf.Variable(tf.truncated_normal([784, 200], stddev=0.1))\n",
        "# biases 1\n",
        "b1 = tf.Variable(tf.zeros([200]))\n",
        "\n",
        "# weigthed sum\n",
        "z1 = tf.matmul(X, W1) + b1\n",
        "\n",
        "#  activation\n",
        "h1 = tf.nn.sigmoid(z1)\n",
        "\n",
        "''' Second hidden layer with 100 neurons'''\n",
        "################## START CODE #########################\n",
        "# weights 1\n",
        "W2 = None\n",
        "# biases 1\n",
        "b2 = None\n",
        "\n",
        "# weigthed sum\n",
        "z2 = tf.matmul(h1, W2) + b2\n",
        "\n",
        "#  activation\n",
        "h2 = tf.nn.sigmoid(z2)\n",
        "\n",
        "####################### END #############################\n",
        "\n",
        "''' third Layer with 60 neurons'''\n",
        "##################### START CODE #########################\n",
        "# weights 2\n",
        "W3 = None\n",
        "# biases 2\n",
        "b3 = None\n",
        "\n",
        "# weigthed sum\n",
        "z3 = None\n",
        "#  activation\n",
        "h3 = None\n",
        "\n",
        "#################### END ##################################\n",
        "\n",
        "''' fourth Layer with 30 neurons'''\n",
        "##################### START CODE #########################\n",
        "# weights 2\n",
        "W4 = None\n",
        "# biases 2\n",
        "b4 = tf.Variable(tf.zeros([30]))\n",
        "\n",
        "# weigthed sum\n",
        "z4 = None\n",
        "\n",
        "\n",
        "#  activation\n",
        "h4 = None\n",
        "\n",
        "#################### END ##################################\n",
        "\n",
        "''' fifth/output Layer with 10 neurons'''\n",
        "##################### START CODE #########################\n",
        "# weights 2\n",
        "W5 = None\n",
        "# biases 2\n",
        "b5 = None\n",
        "# weigthed sum\n",
        "z5 = None\n",
        "\n",
        "# softmax activation (optional)\n",
        "h5 = tf.nn.softmax(z5)\n",
        "\n",
        "#################### END ##################################\n",
        "\n",
        "\n",
        "\n",
        "# cross-entropy loss function (= -sum(y_i * log(hi)) )\n",
        "# TensorFlow provides the softmax_cross_entropy_with_logits function to avoid numerical stability\n",
        "# problems with log(0) which is NaN\n",
        "cross_entropy = tf.nn.softmax_cross_entropy_with_logits(logits=z5, labels=y)\n",
        "cross_entropy = tf.reduce_mean(cross_entropy)\n",
        "\n",
        "################### END ###############################\n",
        "\n",
        "# accuracy of the trained model, between 0 (worst) and 1 (best)\n",
        "correct_prediction = tf.equal(tf.argmax(h5, 1), tf.argmax(y, 1))\n",
        "accuracy = tf.reduce_mean(tf.cast(correct_prediction, tf.float32))\n",
        "\n",
        "# training\n",
        "################# START CODE ########################\n",
        "# learning rate\n",
        "lr = None\n",
        "train_step = None\n",
        "\n",
        "################# END ###############################"
      ],
      "execution_count": 0,
      "outputs": []
    },
    {
      "metadata": {
        "id": "KTJcRkYlT_FP",
        "colab_type": "text"
      },
      "cell_type": "markdown",
      "source": [
        "Start a session"
      ]
    },
    {
      "metadata": {
        "id": "uVUDCOLNUBQq",
        "colab_type": "code",
        "colab": {}
      },
      "cell_type": "code",
      "source": [
        "#Start session\n",
        "\n",
        "# initialize all variables\n",
        "init = tf.global_variables_initializer()\n",
        "sess = tf.Session()\n",
        "sess.run(init)\n"
      ],
      "execution_count": 0,
      "outputs": []
    },
    {
      "metadata": {
        "id": "4xmeL4flULAw",
        "colab_type": "text"
      },
      "cell_type": "markdown",
      "source": [
        "Train & visualize train/val loss and accuracy"
      ]
    },
    {
      "metadata": {
        "id": "mgQVQj5AUKBg",
        "colab_type": "code",
        "colab": {}
      },
      "cell_type": "code",
      "source": [
        "history = training(x_train, y_train, x_val, y_val, sess, epochs=100)"
      ],
      "execution_count": 0,
      "outputs": []
    },
    {
      "metadata": {
        "id": "4xIQk0TdyAbh",
        "colab_type": "code",
        "colab": {}
      },
      "cell_type": "code",
      "source": [
        "plot_history(history)"
      ],
      "execution_count": 0,
      "outputs": []
    },
    {
      "metadata": {
        "id": "YS8PMju1UdLL",
        "colab_type": "text"
      },
      "cell_type": "markdown",
      "source": [
        "Test accuracy"
      ]
    },
    {
      "metadata": {
        "id": "nMUiYVfRUZtD",
        "colab_type": "code",
        "colab": {}
      },
      "cell_type": "code",
      "source": [
        "a_test, c_test  = sess.run([accuracy, cross_entropy], feed_dict={X: x_test, y: y_test})\n",
        "\n",
        "print('Test accuracy is: ', (\"%.2f\"%(a_test*100))+'%')"
      ],
      "execution_count": 0,
      "outputs": []
    },
    {
      "metadata": {
        "id": "oSFuvfiKUXaU",
        "colab_type": "text"
      },
      "cell_type": "markdown",
      "source": [
        "## 6. Replace the sigmoid activations with relu"
      ]
    },
    {
      "metadata": {
        "id": "HtB2pCriVBh2",
        "colab_type": "text"
      },
      "cell_type": "markdown",
      "source": [
        "Computational graph"
      ]
    },
    {
      "metadata": {
        "id": "ZcGVjBjLUiIR",
        "colab_type": "code",
        "colab": {}
      },
      "cell_type": "code",
      "source": [
        "#Create computational graph\n",
        "\n",
        "# input \n",
        "X = tf.placeholder(tf.float32, [None,784])\n",
        "# labels (onehot encoded)\n",
        "y = tf.placeholder(tf.float32, [None, 10])\n",
        "\n",
        "''' First hidden layer with 200 neurons'''\n",
        "################## START CODE #########################\n",
        "# weights 1\n",
        "W1 = None\n",
        "# biases 1\n",
        "b1 = None\n",
        "\n",
        "# weigthed sum\n",
        "z1 = None\n",
        "\n",
        "#  activation\n",
        "h1 = tf.nn.relu(z1)\n",
        "####################### END #############################\n",
        "\n",
        "''' Second hidden layer with 100 neurons'''\n",
        "################## START CODE #########################\n",
        "# weights 1\n",
        "W2 = None\n",
        "# biases 1\n",
        "b2 = None\n",
        "\n",
        "# weigthed sum\n",
        "z2 = None\n",
        "\n",
        "# activation\n",
        "h2 = tf.nn.relu(z2)\n",
        "\n",
        "####################### END #############################\n",
        "\n",
        "''' third Layer with 60 neurons'''\n",
        "##################### START CODE #########################\n",
        "# weights 2\n",
        "W3 = tf.Variable(tf.truncated_normal([100, 60], stddev=0.1))\n",
        "# biases 2\n",
        "b3 = None\n",
        "\n",
        "# weigthed sum\n",
        "z3 = tf.matmul(h2, W3) + b3\n",
        "\n",
        "# activation\n",
        "h3 = None\n",
        "\n",
        "#################### END ##################################\n",
        "\n",
        "''' fourth Layer with 30 neurons'''\n",
        "##################### START CODE #########################\n",
        "# weights 2\n",
        "W4 = None\n",
        "# biases 2\n",
        "b4 = tf.Variable(tf.zeros([30]))\n",
        "\n",
        "# weigthed sum\n",
        "z4 = None\n",
        "\n",
        "# activation \n",
        "h4 = None\n",
        "\n",
        "#################### END ##################################\n",
        "\n",
        "''' fifth/output Layer with 10 neurons'''\n",
        "##################### START CODE #########################\n",
        "# weights 2\n",
        "W5 = None\n",
        "# biases 2\n",
        "b5 = None\n",
        "# weigthed sum\n",
        "z5 = None\n",
        "\n",
        "# softmax activation (optional)\n",
        "h5 = tf.nn.softmax(z5)\n",
        "\n",
        "#################### END ##################################\n",
        "\n",
        "\n",
        "\n",
        "# cross-entropy loss function (= -sum(yi * log(hi)) )\n",
        "# TensorFlow provides the softmax_cross_entropy_with_logits function to avoid numerical stability\n",
        "# problems with log(0) which is NaN\n",
        "cross_entropy = tf.nn.softmax_cross_entropy_with_logits(logits=z5, labels=y)\n",
        "cross_entropy = tf.reduce_mean(cross_entropy)\n",
        "\n",
        "################### END ###############################\n",
        "\n",
        "# accuracy of the trained model, between 0 (worst) and 1 (best)\n",
        "correct_prediction = None\n",
        "accuracy = None\n",
        "\n",
        "# training\n",
        "################# START CODE ########################\n",
        "# learning rate\n",
        "lr = None\n",
        "train_step = None\n",
        "\n",
        "################# END ###############################"
      ],
      "execution_count": 0,
      "outputs": []
    },
    {
      "metadata": {
        "id": "0yF9yD-nVALT",
        "colab_type": "text"
      },
      "cell_type": "markdown",
      "source": [
        "Start a session"
      ]
    },
    {
      "metadata": {
        "id": "63pJ02MzUwcM",
        "colab_type": "code",
        "colab": {}
      },
      "cell_type": "code",
      "source": [
        "#Start session\n",
        "\n",
        "# initialize all variables\n",
        "init = tf.global_variables_initializer()\n",
        "sess = tf.Session()\n",
        "sess.run(init)\n"
      ],
      "execution_count": 0,
      "outputs": []
    },
    {
      "metadata": {
        "id": "2fC7310yU9b-",
        "colab_type": "text"
      },
      "cell_type": "markdown",
      "source": [
        "Train & visualize train/val loss and accuracy"
      ]
    },
    {
      "metadata": {
        "id": "CVEm4NaYUy7q",
        "colab_type": "code",
        "colab": {}
      },
      "cell_type": "code",
      "source": [
        "history = training(x_train, y_train, x_val, y_val, sess, epochs=100)"
      ],
      "execution_count": 0,
      "outputs": []
    },
    {
      "metadata": {
        "id": "MGoXcNh0yCI_",
        "colab_type": "code",
        "colab": {}
      },
      "cell_type": "code",
      "source": [
        "plot_history(history)"
      ],
      "execution_count": 0,
      "outputs": []
    },
    {
      "metadata": {
        "id": "mSsJprzhU3CP",
        "colab_type": "text"
      },
      "cell_type": "markdown",
      "source": [
        "Test Accuracy"
      ]
    },
    {
      "metadata": {
        "id": "pN119AN4U1Lk",
        "colab_type": "code",
        "colab": {}
      },
      "cell_type": "code",
      "source": [
        "a_test, c_test  = sess.run([accuracy, cross_entropy], feed_dict={X: x_test, y: y_test})\n",
        "\n",
        "print('Test accuracy is: ', (\"%.2f\"%(a_test*100))+'%')"
      ],
      "execution_count": 0,
      "outputs": []
    },
    {
      "metadata": {
        "id": "tdsl7Fc9VIMj",
        "colab_type": "text"
      },
      "cell_type": "markdown",
      "source": [
        "## 7. Introduce learning rate decay"
      ]
    },
    {
      "metadata": {
        "id": "NP35q0iBW8h1",
        "colab_type": "text"
      },
      "cell_type": "markdown",
      "source": [
        "Computational graph"
      ]
    },
    {
      "metadata": {
        "id": "AW10JPzZW5qu",
        "colab_type": "code",
        "colab": {}
      },
      "cell_type": "code",
      "source": [
        "#Create computational graph\n",
        "\n",
        "# input \n",
        "X = tf.placeholder(tf.float32, [None,784])\n",
        "# labels (onehot encoded)\n",
        "y = tf.placeholder(tf.float32, [None, 10])\n",
        "# step for variable learning rate\n",
        "step_val = tf.placeholder(tf.int32)\n",
        "\n",
        "''' First hidden layer with 200 neurons'''\n",
        "####################### START CODE #############################\n",
        "# weights 1\n",
        "W1 = tf.Variable(tf.truncated_normal([784, 200], stddev=0.1))\n",
        "# biases 1\n",
        "b1 = None\n",
        "\n",
        "# weigthed sum\n",
        "z1 = None\n",
        "\n",
        "#  activation\n",
        "h1 = tf.nn.relu(z1)\n",
        "####################### END #############################\n",
        "\n",
        "''' Second hidden layer with 100 neurons'''\n",
        "################## START CODE #########################\n",
        "# weights 1\n",
        "W2 = None\n",
        "# biases 1\n",
        "b2 = None\n",
        "\n",
        "# weigthed sum\n",
        "z2 = None\n",
        "# activation\n",
        "h2 = tf.nn.relu(z2)\n",
        "\n",
        "####################### END #############################\n",
        "\n",
        "''' third Layer with 60 neurons'''\n",
        "##################### START CODE #########################\n",
        "# weights 2\n",
        "W3 = tf.Variable(tf.truncated_normal([100, 60], stddev=0.1))\n",
        "# biases 2\n",
        "b3 = None\n",
        "\n",
        "# weigthed sum\n",
        "z3 = None\n",
        "\n",
        "# activation\n",
        "h3 = None\n",
        "\n",
        "#################### END ##################################\n",
        "\n",
        "''' fourth Layer with 30 neurons'''\n",
        "##################### START CODE #########################\n",
        "# weights 2\n",
        "W4 = None\n",
        "# biases 2\n",
        "b4 = tf.Variable(tf.zeros([30]))\n",
        "\n",
        "# weigthed sum\n",
        "z4 = None\n",
        "\n",
        "# activation \n",
        "h4 = None\n",
        "\n",
        "#################### END ##################################\n",
        "\n",
        "''' fifth/output Layer with 10 neurons'''\n",
        "##################### START CODE #########################\n",
        "# weights 2\n",
        "W5 = None\n",
        "# biases 2\n",
        "b5 = None\n",
        "# weigthed sum\n",
        "z5 = None\n",
        "\n",
        "# softmax activation (optional)\n",
        "h5 = tf.nn.softmax(z5)\n",
        "\n",
        "#################### END ##################################\n",
        "\n",
        "\n",
        "\n",
        "\n",
        "# cross-entropy loss function (= -sum(yi * log(hi)) )\n",
        "# TensorFlow provides the softmax_cross_entropy_with_logits function to avoid numerical stability\n",
        "# problems with log(0) which is NaN\n",
        "cross_entropy = tf.nn.softmax_cross_entropy_with_logits(logits=z5, labels=y)\n",
        "cross_entropy = tf.reduce_mean(cross_entropy)\n",
        "\n",
        "################### END ###############################\n",
        "\n",
        "# accuracy of the trained model, between 0 (worst) and 1 (best)\n",
        "correct_prediction = tf.equal(tf.argmax(h5, 1), tf.argmax(y, 1))\n",
        "accuracy = tf.reduce_mean(tf.cast(correct_prediction, tf.float32))\n",
        "\n",
        "# training\n",
        "################# START CODE ########################\n",
        "# the learning rate is: # 0.0001 + 0.003 * (1/e)^(step/2000)), i.e. exponential decay from 0.003->0.0001\n",
        "lr = 0.0001 +  tf.train.exponential_decay(0.003, step_val, 2000, 1/math.e)\n",
        "train_step = None\n",
        "\n",
        "################# END ###############################"
      ],
      "execution_count": 0,
      "outputs": []
    },
    {
      "metadata": {
        "id": "_r9kiYMOXCFK",
        "colab_type": "text"
      },
      "cell_type": "markdown",
      "source": [
        "Start Session"
      ]
    },
    {
      "metadata": {
        "id": "g8Z-jkTiXBGt",
        "colab_type": "code",
        "colab": {}
      },
      "cell_type": "code",
      "source": [
        "#Start session\n",
        "\n",
        "# initialize all variables\n",
        "init = tf.global_variables_initializer()\n",
        "sess = tf.Session()\n",
        "sess.run(init)\n"
      ],
      "execution_count": 0,
      "outputs": []
    },
    {
      "metadata": {
        "id": "vl4YPXlrXRNc",
        "colab_type": "text"
      },
      "cell_type": "markdown",
      "source": [
        "Train & visualize train/val loss and accuracy"
      ]
    },
    {
      "metadata": {
        "id": "k-KAZHs4XE_I",
        "colab_type": "code",
        "colab": {}
      },
      "cell_type": "code",
      "source": [
        "history = training(x_train, y_train, x_val, y_val, sess, epochs=100, step=True)"
      ],
      "execution_count": 0,
      "outputs": []
    },
    {
      "metadata": {
        "id": "KkeyHimTyEOZ",
        "colab_type": "code",
        "colab": {}
      },
      "cell_type": "code",
      "source": [
        "plot_history(history)"
      ],
      "execution_count": 0,
      "outputs": []
    },
    {
      "metadata": {
        "id": "tpDp3DSPXLQa",
        "colab_type": "text"
      },
      "cell_type": "markdown",
      "source": [
        "Test Accuracy"
      ]
    },
    {
      "metadata": {
        "id": "l6IdYzU7XKVi",
        "colab_type": "code",
        "colab": {}
      },
      "cell_type": "code",
      "source": [
        "a_test, c_test  = sess.run([accuracy, cross_entropy], feed_dict={X: x_test, y: y_test})\n",
        "\n",
        "print('Test accuracy is: ', (\"%.2f\"%(a_test*100))+'%')"
      ],
      "execution_count": 0,
      "outputs": []
    },
    {
      "metadata": {
        "id": "e-TnuKZh26wH",
        "colab_type": "code",
        "colab": {}
      },
      "cell_type": "code",
      "source": [
        "sess.close()"
      ],
      "execution_count": 0,
      "outputs": []
    },
    {
      "metadata": {
        "id": "16lHWmTLZ4yz",
        "colab_type": "text"
      },
      "cell_type": "markdown",
      "source": [
        "## 8. Use dropout"
      ]
    },
    {
      "metadata": {
        "id": "_lj9seh4aWKr",
        "colab_type": "text"
      },
      "cell_type": "markdown",
      "source": [
        "Computational graph"
      ]
    },
    {
      "metadata": {
        "id": "xbZEABFKaUHq",
        "colab_type": "code",
        "colab": {}
      },
      "cell_type": "code",
      "source": [
        "#Create computational graph\n",
        "\n",
        "# input \n",
        "X = tf.placeholder(tf.float32, [None,784])\n",
        "# labels (onehot encoded)\n",
        "y = tf.placeholder(tf.float32, [None, 10])\n",
        "# step for variable learning rate\n",
        "step_val = tf.placeholder(tf.int32)\n",
        "\n",
        "# variable learning rate\n",
        "lr = tf.placeholder(tf.float32)\n",
        "# Probability of keeping a node during dropout = 1.0 at test time (no dropout) and 0.75 at training time\n",
        "pkeep_val = tf.placeholder(tf.float32)\n",
        "\n",
        "\n",
        "''' First hidden layer with 200 neurons'''\n",
        "################## START CODE #########################\n",
        "# weights 1\n",
        "W1 = None\n",
        "# biases 1\n",
        "b1 = None\n",
        "\n",
        "# weigthed sum\n",
        "z1 = tf.matmul(X, W1) + b1\n",
        "\n",
        "#  activation\n",
        "h1 = None\n",
        "\n",
        "# dropout\n",
        "h1d = tf.nn.dropout(h1, pkeep_val)\n",
        "################## END #########################\n",
        "\n",
        "''' Second hidden layer with 100 neurons'''\n",
        "################## START CODE #########################\n",
        "# weights 1\n",
        "W2 = None\n",
        "# biases 1\n",
        "b2 = None\n",
        "\n",
        "# weigthed sum\n",
        "z2 = tf.matmul(h1d, W2) + b2\n",
        "\n",
        "# activation\n",
        "h2 = tf.nn.relu(z2)\n",
        "\n",
        "# dropout\n",
        "h2d = None\n",
        "\n",
        "\n",
        "####################### END #############################\n",
        "\n",
        "''' third Layer with 60 neurons'''\n",
        "##################### START CODE #########################\n",
        "# weights 2\n",
        "W3 = tf.Variable(tf.truncated_normal([100, 60], stddev=0.1))\n",
        "# biases 2\n",
        "b3 = None\n",
        "\n",
        "# weigthed sum\n",
        "z3 = tf.matmul(h2d, W3) + b3\n",
        "\n",
        "# activation\n",
        "h3 = None\n",
        "\n",
        "# dropout\n",
        "h3d = None\n",
        "\n",
        "#################### END ##################################\n",
        "\n",
        "''' fourth Layer with 30 neurons'''\n",
        "##################### START CODE #########################\n",
        "# weights 2\n",
        "W4 = None\n",
        "# biases 2\n",
        "b4 = tf.Variable(tf.zeros([30]))\n",
        "\n",
        "# weigthed sum\n",
        "z4 = None\n",
        "\n",
        "# activation \n",
        "h4 = None\n",
        "\n",
        "# dropout\n",
        "h4d = None\n",
        "\n",
        "\n",
        "#################### END ##################################\n",
        "\n",
        "''' fifth/output Layer with 10 neurons'''\n",
        "##################### START CODE #########################\n",
        "# weights 2\n",
        "W5 = tf.Variable(tf.truncated_normal([30, 10], stddev=0.1))#None\n",
        "# biases 2\n",
        "b5 = None\n",
        "# weigthed sum\n",
        "z5 = None\n",
        "\n",
        "# softmax activation\n",
        "h5 = tf.nn.softmax(z5)\n",
        "\n",
        "#################### END ##################################\n",
        "\n",
        "\n",
        "\n",
        "\n",
        "\n",
        "# cross-entropy loss function (= -sum(yi * log(hi)) )\n",
        "# TensorFlow provides the softmax_cross_entropy_with_logits function to avoid numerical stability\n",
        "# problems with log(0) which is NaN\n",
        "cross_entropy = tf.nn.softmax_cross_entropy_with_logits(logits=z5, labels=y)\n",
        "cross_entropy = tf.reduce_mean(cross_entropy)\n",
        "\n",
        "################### END ###############################\n",
        "\n",
        "# accuracy of the trained model, between 0 (worst) and 1 (best)\n",
        "correct_prediction = tf.equal(tf.argmax(h5, 1), tf.argmax(y, 1))\n",
        "accuracy = tf.reduce_mean(tf.cast(correct_prediction, tf.float32))\n",
        "\n",
        "# training\n",
        "################# START CODE ########################\n",
        "# the learning rate is: # 0.0001 + 0.003 * (1/e)^(step/2000)), i.e. exponential decay from 0.003->0.0001\n",
        "lr = 0.0001 +  tf.train.exponential_decay(0.003, step_val, 2000, 1/math.e)\n",
        "train_step = None\n",
        "\n",
        "\n",
        "################# END ###############################"
      ],
      "execution_count": 0,
      "outputs": []
    },
    {
      "metadata": {
        "id": "GkYBhaiAac8F",
        "colab_type": "text"
      },
      "cell_type": "markdown",
      "source": [
        "Start session"
      ]
    },
    {
      "metadata": {
        "id": "MgY9Nkwbab6G",
        "colab_type": "code",
        "colab": {}
      },
      "cell_type": "code",
      "source": [
        "#Start session\n",
        "\n",
        "# initialize all variables\n",
        "init = tf.global_variables_initializer()\n",
        "sess = tf.Session()\n",
        "sess.run(init)\n"
      ],
      "execution_count": 0,
      "outputs": []
    },
    {
      "metadata": {
        "id": "RbwpERfsai8-",
        "colab_type": "text"
      },
      "cell_type": "markdown",
      "source": [
        "Train & visualize train/val loss and accuracy"
      ]
    },
    {
      "metadata": {
        "id": "EXLkseb7ah-U",
        "colab_type": "code",
        "colab": {}
      },
      "cell_type": "code",
      "source": [
        "history = training(x_train, y_train, x_val, y_val, sess, epochs=100, step=True, pkeep=0.75)"
      ],
      "execution_count": 0,
      "outputs": []
    },
    {
      "metadata": {
        "id": "EqDeC51MyFnQ",
        "colab_type": "code",
        "colab": {}
      },
      "cell_type": "code",
      "source": [
        "plot_history(history)"
      ],
      "execution_count": 0,
      "outputs": []
    },
    {
      "metadata": {
        "id": "ngOoBZfnapbM",
        "colab_type": "text"
      },
      "cell_type": "markdown",
      "source": [
        "Test Accuracy"
      ]
    },
    {
      "metadata": {
        "id": "GtCnAN0laokB",
        "colab_type": "code",
        "colab": {}
      },
      "cell_type": "code",
      "source": [
        "a_test, c_test  = sess.run([accuracy, cross_entropy], feed_dict={X: x_test, y: y_test, pkeep_val: 1})\n",
        "\n",
        "print('Test accuracy is: ', (\"%.2f\"%(a_test*100))+'%')"
      ],
      "execution_count": 0,
      "outputs": []
    },
    {
      "metadata": {
        "id": "TYN3t19Eaxj0",
        "colab_type": "text"
      },
      "cell_type": "markdown",
      "source": [
        "## 9. Convolutional Neural Networks"
      ]
    },
    {
      "metadata": {
        "id": "RjxgtOMqayyx",
        "colab_type": "code",
        "colab": {}
      },
      "cell_type": "code",
      "source": [
        "''' Let Your Imagination Run Wild'''"
      ],
      "execution_count": 0,
      "outputs": []
    }
  ]
}